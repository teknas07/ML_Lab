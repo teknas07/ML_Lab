{
  "nbformat": 4,
  "nbformat_minor": 0,
  "metadata": {
    "colab": {
      "name": "Lab4.ipynb",
      "provenance": [],
      "toc_visible": true
    },
    "kernelspec": {
      "name": "python3",
      "display_name": "Python 3"
    }
  },
  "cells": [
    {
      "cell_type": "code",
      "metadata": {
        "id": "joVFLTWbHeMp",
        "colab_type": "code",
        "colab": {
          "base_uri": "https://localhost:8080/",
          "height": 347
        },
        "outputId": "6cd0e21b-1e6c-4ba1-c808-3988849fddbd"
      },
      "source": [
        "import numpy as np\n",
        "import pandas as pd\n",
        "import matplotlib.pyplot as plt\n",
        "from tabulate import tabulate\n",
        "\n",
        "\n",
        "def h(x):\n",
        "  t0 = 1.2\n",
        "  t1 = 0.5\n",
        "  return (t0 + t1*x)\n",
        "\n",
        "x = np.array([1, 1, 2, 3, 4, 3, 4, 6, 4])\n",
        "hx = h(x)\n",
        "\n",
        "print(tabulate([x, hx]))\n",
        "\n",
        "plt.plot(x, hx)\n",
        "plt.xlabel('values in x')\n",
        "plt.ylabel('h(x)')\n",
        "plt.show()"
      ],
      "execution_count": 2,
      "outputs": [
        {
          "output_type": "stream",
          "text": [
            "---  ---  ---  ---  ---  ---  ---  ---  ---\n",
            "1    1    2    3    4    3    4    6    4\n",
            "1.7  1.7  2.2  2.7  3.2  2.7  3.2  4.2  3.2\n",
            "---  ---  ---  ---  ---  ---  ---  ---  ---\n"
          ],
          "name": "stdout"
        },
        {
          "output_type": "display_data",
          "data": {
            "image/png": "[encoded data removed]",
            "text/plain": [
              "<Figure size 432x288 with 1 Axes>"
            ]
          },
          "metadata": {
            "tags": [],
            "needs_background": "light"
          }
        }
      ]
    },
    {
      "cell_type": "code",
      "metadata": {
        "id": "ztawZeWiJq_b",
        "colab_type": "code",
        "colab": {
          "base_uri": "https://localhost:8080/",
          "height": 34
        },
        "outputId": "5145ca00-3cd9-4a4b-e405-8906d7607f4e"
      },
      "source": [
        "A = np.array([1, 1, 2, 3, 4, 3, 4, 6, 4])\n",
        "B = np.array([2, 1, 0.5, 1, 3, 3, 2, 5, 4])\n",
        "\n",
        "np.dot(A, B)"
      ],
      "execution_count": 3,
      "outputs": [
        {
          "output_type": "execute_result",
          "data": {
            "text/plain": [
              "82.0"
            ]
          },
          "metadata": {
            "tags": []
          },
          "execution_count": 3
        }
      ]
    },
    {
      "cell_type": "code",
      "metadata": {
        "id": "HyulpsqXKK_H",
        "colab_type": "code",
        "colab": {
          "base_uri": "https://localhost:8080/",
          "height": 279
        },
        "outputId": "5eb3229c-7013-43a3-bdc5-f9106bc7bc44"
      },
      "source": [
        "plt.scatter(A, B)\n",
        "plt.xlabel('A')\n",
        "plt.ylabel('B')\n",
        "plt.show()"
      ],
      "execution_count": 5,
      "outputs": [
        {
          "output_type": "display_data",
          "data": {
            "image/png": "[encoded data removed]",
            "text/plain": [
              "<Figure size 432x288 with 1 Axes>"
            ]
          },
          "metadata": {
            "tags": [],
            "needs_background": "light"
          }
        }
      ]
    },
    {
      "cell_type": "code",
      "metadata": {
        "id": "Ebg62zA-Ke3G",
        "colab_type": "code",
        "colab": {
          "base_uri": "https://localhost:8080/",
          "height": 34
        },
        "outputId": "c0e78a76-2624-4788-aec2-f92534ffbbb7"
      },
      "source": [
        "mse = np.sum((A-B)**2) / len(A)\n",
        "print('Mean Square Error =', mse)"
      ],
      "execution_count": 6,
      "outputs": [
        {
          "output_type": "stream",
          "text": [
            "Mean Square Error = 1.4722222222222223\n"
          ],
          "name": "stdout"
        }
      ]
    },
    {
      "cell_type": "code",
      "metadata": {
        "id": "Z6Y11_k2Lh_l",
        "colab_type": "code",
        "colab": {
          "base_uri": "https://localhost:8080/",
          "height": 347
        },
        "outputId": "3e40c02b-b0e1-4579-efd8-48bb962223ab"
      },
      "source": [
        "def compute_cost_function(n, t1, A, B):\n",
        "    sum_squared_error = np.sum(np.square(np.dot(t1, A) - B))\n",
        "    cost = sum_squared_error/(2*n)\n",
        "    return cost\n",
        "\n",
        "t1 = [0.1, 0.3, 0.5, 0.7, 0.8]\n",
        "cost = []\n",
        "\n",
        "# Finding the cost for different values of t1 (theta)\n",
        "for t1_value in t1:\n",
        "    cost.append(compute_cost_function(len(A), t1_value, A, B))\n",
        "    \n",
        "print(tabulate([t1, cost]))\n",
        "\n",
        "# Plotting the cost for the corresponding value of theta\n",
        "plt.plot(t1, cost)\n",
        "plt.xlabel('t1')\n",
        "plt.ylabel('J(t1)')\n",
        "plt.show()"
      ],
      "execution_count": 7,
      "outputs": [
        {
          "output_type": "stream",
          "text": [
            "-------  -------  --------  --------  --------\n",
            "0.1      0.3      0.5       0.7       0.8\n",
            "2.99611  1.65389  0.791667  0.409444  0.398333\n",
            "-------  -------  --------  --------  --------\n"
          ],
          "name": "stdout"
        },
        {
          "output_type": "display_data",
          "data": {
            "image/png": "[encoded data removed]",
            "text/plain": [
              "<Figure size 432x288 with 1 Axes>"
            ]
          },
          "metadata": {
            "tags": [],
            "needs_background": "light"
          }
        }
      ]
    },
    {
      "cell_type": "markdown",
      "metadata": {
        "id": "22gJM-g7L6nn",
        "colab_type": "text"
      },
      "source": [
        "## PART B : Linear Regression Implementation (with one variable)"
      ]
    },
    {
      "cell_type": "code",
      "metadata": {
        "id": "pmg5au3KL8wV",
        "colab_type": "code",
        "colab": {}
      },
      "source": [
        "student_data  = pd.read_csv('/content/datasets_52721_99691_student-mat.csv')\n",
        "df = pd.DataFrame(list(zip(student_data['studytime'], (student_data['G1']+student_data['G2']+student_data['G3'])/3)), columns =['studytime', 'avg_grade'])\n",
        "df.to_csv(\"./student_average_grade.csv\", sep=',',index=False)"
      ],
      "execution_count": 9,
      "outputs": []
    },
    {
      "cell_type": "code",
      "metadata": {
        "id": "gvZ0WKpqO2Oy",
        "colab_type": "code",
        "colab": {
          "base_uri": "https://localhost:8080/",
          "height": 204
        },
        "outputId": "19075e8e-7a35-4917-de13-e4f2c3bf7d9b"
      },
      "source": [
        "data = pd.read_csv('/content/student_average_grade.csv')\n",
        "data.head()"
      ],
      "execution_count": 10,
      "outputs": [
        {
          "output_type": "execute_result",
          "data": {
            "text/html": [
              "<div>\n",
              "<style scoped>\n",
              "    .dataframe tbody tr th:only-of-type {\n",
              "        vertical-align: middle;\n",
              "    }\n",
              "\n",
              "    .dataframe tbody tr th {\n",
              "        vertical-align: top;\n",
              "    }\n",
              "\n",
              "    .dataframe thead th {\n",
              "        text-align: right;\n",
              "    }\n",
              "</style>\n",
              "<table border=\"1\" class=\"dataframe\">\n",
              "  <thead>\n",
              "    <tr style=\"text-align: right;\">\n",
              "      <th></th>\n",
              "      <th>studytime</th>\n",
              "      <th>avg_grade</th>\n",
              "    </tr>\n",
              "  </thead>\n",
              "  <tbody>\n",
              "    <tr>\n",
              "      <th>0</th>\n",
              "      <td>2</td>\n",
              "      <td>5.666667</td>\n",
              "    </tr>\n",
              "    <tr>\n",
              "      <th>1</th>\n",
              "      <td>2</td>\n",
              "      <td>5.333333</td>\n",
              "    </tr>\n",
              "    <tr>\n",
              "      <th>2</th>\n",
              "      <td>2</td>\n",
              "      <td>8.333333</td>\n",
              "    </tr>\n",
              "    <tr>\n",
              "      <th>3</th>\n",
              "      <td>3</td>\n",
              "      <td>14.666667</td>\n",
              "    </tr>\n",
              "    <tr>\n",
              "      <th>4</th>\n",
              "      <td>2</td>\n",
              "      <td>8.666667</td>\n",
              "    </tr>\n",
              "  </tbody>\n",
              "</table>\n",
              "</div>"
            ],
            "text/plain": [
              "   studytime  avg_grade\n",
              "0          2   5.666667\n",
              "1          2   5.333333\n",
              "2          2   8.333333\n",
              "3          3  14.666667\n",
              "4          2   8.666667"
            ]
          },
          "metadata": {
            "tags": []
          },
          "execution_count": 10
        }
      ]
    },
    {
      "cell_type": "code",
      "metadata": {
        "id": "YFnDP9sxPAMe",
        "colab_type": "code",
        "colab": {
          "base_uri": "https://localhost:8080/",
          "height": 281
        },
        "outputId": "6df0f0d8-9444-40bf-ce7c-45574a0d280f"
      },
      "source": [
        "plt.scatter(data['studytime'], data['avg_grade'])\n",
        "plt.xlabel('Study Time')\n",
        "plt.ylabel('Average Grade')\n",
        "plt.show()"
      ],
      "execution_count": 11,
      "outputs": [
        {
          "output_type": "display_data",
          "data": {
            "image/png": "[encoded data removed]",
            "text/plain": [
              "<Figure size 432x288 with 1 Axes>"
            ]
          },
          "metadata": {
            "tags": [],
            "needs_background": "light"
          }
        }
      ]
    },
    {
      "cell_type": "code",
      "metadata": {
        "id": "NN4TLAyQQNQH",
        "colab_type": "code",
        "colab": {}
      },
      "source": [
        "from sklearn.linear_model import LinearRegression\n",
        "from sklearn.model_selection import train_test_split\n",
        "\n",
        "X = data[['studytime']]\n",
        "y = data[['avg_grade']]\n",
        "\n",
        "regressor = LinearRegression()\n",
        "X_train, X_test, y_train, y_test = train_test_split(X, y, test_size = 0.3)\n",
        "regressor.fit(X_train, y_train)\n",
        "y_pred = regressor.predict(X_test)"
      ],
      "execution_count": 12,
      "outputs": []
    },
    {
      "cell_type": "code",
      "metadata": {
        "id": "Oof_SOXjQdyv",
        "colab_type": "code",
        "colab": {}
      },
      "source": [
        "learned_params = []\n",
        "\n",
        "def gradient_descent(alpha, x, y, max_iter=1500):\n",
        "    theta = 0\n",
        "    m = float(len(y))\n",
        "    for i in range(max_iter):\n",
        "        theta = theta - (alpha / m) * np.dot(x.T,(np.dot(x, theta) - y))\n",
        "    learned_params.append(theta)"
      ],
      "execution_count": 13,
      "outputs": []
    },
    {
      "cell_type": "code",
      "metadata": {
        "id": "st-PKXc6TRWZ",
        "colab_type": "code",
        "colab": {}
      },
      "source": [
        "alpha_values = [0.1, 0.2, 0.3, 0.4, 0.5, 0.6, 0.7, 0.8, 0.9]\n",
        "\n",
        "for alpha in alpha_values:\n",
        "    gradient_descent(alpha, X_train, y_train, 100)    "
      ],
      "execution_count": 14,
      "outputs": []
    },
    {
      "cell_type": "code",
      "metadata": {
        "id": "LOa6OiBTTclW",
        "colab_type": "code",
        "colab": {
          "base_uri": "https://localhost:8080/",
          "height": 34
        },
        "outputId": "6b7cd5ac-6f17-46ca-be55-d4ccfd191c14"
      },
      "source": [
        "def gradientDescent(x, y, alpha, num_iter):\n",
        "    theta = 0\n",
        "    m = np.size(x,axis=0)\n",
        "    for i in range(num_iter):\n",
        "        theta = theta - (alpha / m) * np.dot(x.T,(np.dot(x, theta) - y))\n",
        "    return theta\n",
        "\n",
        "theta = gradientDescent(X_train, y_train, 0.01, 1500)\n",
        "theta"
      ],
      "execution_count": 15,
      "outputs": [
        {
          "output_type": "execute_result",
          "data": {
            "text/plain": [
              "array([[4.6875645]])"
            ]
          },
          "metadata": {
            "tags": []
          },
          "execution_count": 15
        }
      ]
    }
  ]
}